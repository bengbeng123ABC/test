{
 "cells": [
  {
   "cell_type": "code",
   "execution_count": 1,
   "metadata": {},
   "outputs": [],
   "source": [
    "import pandas as pd\n",
    "import numpy as np\n",
    "from xgboost import XGBClassifier \n",
    "from sklearn.model_selection import StratifiedKFold\n",
    "from sklearn.base import clone\n",
    "from sklearn.metrics import roc_auc_score\n",
    "from sklearn.model_selection import train_test_split\n",
    "from sklearn.metrics import roc_curve\n",
    "from sklearn.model_selection import cross_val_predict\n",
    "from sklearn.model_selection import cross_val_score\n",
    "from sklearn.metrics import precision_score,recall_score,f1_score,accuracy_score\n",
    "from sklearn.metrics import roc_auc_score\n",
    "from sklearn.preprocessing import MinMaxScaler\n",
    "from sklearn.tree import  DecisionTreeClassifier,export_graphviz\n",
    "from xgboost import plot_importance\n",
    "from matplotlib import pyplot as plt\n",
    "from collections import Counter\n",
    "from imblearn.over_sampling import RandomOverSampler"
   ]
  },
  {
   "cell_type": "markdown",
   "metadata": {},
   "source": [
    "### 查看模型参数"
   ]
  },
  {
   "cell_type": "code",
   "execution_count": 121,
   "metadata": {
    "scrolled": true
   },
   "outputs": [
    {
     "data": {
      "text/plain": [
       "XGBClassifier(base_score=None, booster=None, callbacks=None,\n",
       "              colsample_bylevel=None, colsample_bynode=None,\n",
       "              colsample_bytree=None, early_stopping_rounds=None,\n",
       "              enable_categorical=False, eval_metric='logloss',\n",
       "              feature_types=None, gamma=0.5, gpu_id=None, grow_policy=None,\n",
       "              importance_type=None, interaction_constraints=None,\n",
       "              learning_rate=0.3, max_bin=None, max_cat_threshold=None,\n",
       "              max_cat_to_onehot=None, max_delta_step=1, max_depth=9,\n",
       "              max_leaves=None, min_child_weight=0.5, missing=nan,\n",
       "              monotone_constraints=None, n_estimators=190, n_jobs=None,\n",
       "              num_parallel_tree=None, predictor=None, random_state=None, ...)"
      ]
     },
     "execution_count": 121,
     "metadata": {},
     "output_type": "execute_result"
    }
   ],
   "source": [
    "clf.fit(X,labels)"
   ]
  },
  {
   "cell_type": "markdown",
   "metadata": {},
   "source": [
    "## 内部测试后，用ts1数据实际预测"
   ]
  },
  {
   "cell_type": "code",
   "execution_count": 122,
   "metadata": {
    "scrolled": false
   },
   "outputs": [
    {
     "data": {
      "text/plain": [
       "array([[0.3097454 , 0.13346457, 0.47956467, ..., 0.        , 0.        ,\n",
       "        1.        ],\n",
       "       [0.34012033, 0.1003937 , 0.        , ..., 0.        , 0.        ,\n",
       "        0.        ],\n",
       "       [0.55910806, 0.18858268, 0.74143282, ..., 0.        , 0.        ,\n",
       "        0.43284145],\n",
       "       ...,\n",
       "       [0.37384004, 0.12755906, 0.        , ..., 0.        , 0.        ,\n",
       "        0.        ],\n",
       "       [0.3837384 , 0.1515748 , 0.        , ..., 0.        , 0.        ,\n",
       "        0.        ],\n",
       "       [0.20874945, 0.20984252, 0.        , ..., 0.        , 0.        ,\n",
       "        0.        ]])"
      ]
     },
     "execution_count": 122,
     "metadata": {},
     "output_type": "execute_result"
    }
   ],
   "source": [
    "X1 = ts1.drop(['pax_name','emd_lable2'],axis=1).values\n",
    "X1 = mm.fit_transform(X1)\n",
    "X1"
   ]
  },
  {
   "cell_type": "markdown",
   "metadata": {},
   "source": [
    "## 进行预测"
   ]
  },
  {
   "cell_type": "code",
   "execution_count": 123,
   "metadata": {},
   "outputs": [
    {
     "data": {
      "text/plain": [
       "array([0, 0, 0, ..., 1, 0, 0])"
      ]
     },
     "execution_count": 123,
     "metadata": {},
     "output_type": "execute_result"
    }
   ],
   "source": [
    "prediction2=clf.predict(X1)\n",
    "prediction2"
   ]
  },
  {
   "cell_type": "code",
   "execution_count": 124,
   "metadata": {},
   "outputs": [
    {
     "data": {
      "text/plain": [
       "array([[9.9497724e-01, 5.0227679e-03],\n",
       "       [5.2945900e-01, 4.7054097e-01],\n",
       "       [9.9926364e-01, 7.3638186e-04],\n",
       "       ...,\n",
       "       [4.0718484e-01, 5.9281516e-01],\n",
       "       [7.8884149e-01, 2.1115853e-01],\n",
       "       [5.2945900e-01, 4.7054097e-01]], dtype=float32)"
      ]
     },
     "execution_count": 124,
     "metadata": {},
     "output_type": "execute_result"
    }
   ],
   "source": [
    "prediction3=clf.predict_proba(X1)\n",
    "prediction3"
   ]
  },
  {
   "cell_type": "code",
   "execution_count": 125,
   "metadata": {},
   "outputs": [],
   "source": [
    "prediction_=np.array(prediction3[:,1])"
   ]
  },
  {
   "cell_type": "markdown",
   "metadata": {},
   "source": [
    "# 将预测值和测试数据索引构造表，输出csv上传，查看成绩"
   ]
  },
  {
   "cell_type": "code",
   "execution_count": 126,
   "metadata": {
    "scrolled": true
   },
   "outputs": [
    {
     "data": {
      "text/html": [
       "<div>\n",
       "<style scoped>\n",
       "    .dataframe tbody tr th:only-of-type {\n",
       "        vertical-align: middle;\n",
       "    }\n",
       "\n",
       "    .dataframe tbody tr th {\n",
       "        vertical-align: top;\n",
       "    }\n",
       "\n",
       "    .dataframe thead th {\n",
       "        text-align: right;\n",
       "    }\n",
       "</style>\n",
       "<table border=\"1\" class=\"dataframe\">\n",
       "  <thead>\n",
       "    <tr style=\"text-align: right;\">\n",
       "      <th></th>\n",
       "      <th>pax_name</th>\n",
       "      <th>emd_lable2</th>\n",
       "      <th>probability</th>\n",
       "    </tr>\n",
       "  </thead>\n",
       "  <tbody>\n",
       "    <tr>\n",
       "      <th>0</th>\n",
       "      <td>21f0b1c838160ac26cb2c57660bc3fd5</td>\n",
       "      <td>0</td>\n",
       "      <td>0.005023</td>\n",
       "    </tr>\n",
       "    <tr>\n",
       "      <th>1</th>\n",
       "      <td>21e0621a85f6db6139ff7cf2d53b4e5d</td>\n",
       "      <td>0</td>\n",
       "      <td>0.470541</td>\n",
       "    </tr>\n",
       "    <tr>\n",
       "      <th>2</th>\n",
       "      <td>197b215b23a93b19f391c422eb27f310</td>\n",
       "      <td>0</td>\n",
       "      <td>0.000736</td>\n",
       "    </tr>\n",
       "    <tr>\n",
       "      <th>3</th>\n",
       "      <td>92b435f20c6ce2fd5acef7b6ff49b6d0</td>\n",
       "      <td>1</td>\n",
       "      <td>0.604254</td>\n",
       "    </tr>\n",
       "    <tr>\n",
       "      <th>4</th>\n",
       "      <td>a38ac8bfe0feb14c0469e2917bc74a05</td>\n",
       "      <td>1</td>\n",
       "      <td>0.592815</td>\n",
       "    </tr>\n",
       "    <tr>\n",
       "      <th>...</th>\n",
       "      <td>...</td>\n",
       "      <td>...</td>\n",
       "      <td>...</td>\n",
       "    </tr>\n",
       "    <tr>\n",
       "      <th>6766</th>\n",
       "      <td>d6364954adcfbd58d8beebd686a9fbdc</td>\n",
       "      <td>0</td>\n",
       "      <td>0.470541</td>\n",
       "    </tr>\n",
       "    <tr>\n",
       "      <th>6767</th>\n",
       "      <td>150b405be4282907eb7e87f992856ea1</td>\n",
       "      <td>0</td>\n",
       "      <td>0.470541</td>\n",
       "    </tr>\n",
       "    <tr>\n",
       "      <th>6768</th>\n",
       "      <td>33b02fadd0d05938b8cc3dfbc735fd10</td>\n",
       "      <td>1</td>\n",
       "      <td>0.592815</td>\n",
       "    </tr>\n",
       "    <tr>\n",
       "      <th>6769</th>\n",
       "      <td>29cb3dea4ecce778096484ff2e097f5b</td>\n",
       "      <td>0</td>\n",
       "      <td>0.211159</td>\n",
       "    </tr>\n",
       "    <tr>\n",
       "      <th>6770</th>\n",
       "      <td>ded3592dc9da0c1ace02ed8e361efc23</td>\n",
       "      <td>0</td>\n",
       "      <td>0.470541</td>\n",
       "    </tr>\n",
       "  </tbody>\n",
       "</table>\n",
       "<p>6771 rows × 3 columns</p>\n",
       "</div>"
      ],
      "text/plain": [
       "                              pax_name  emd_lable2  probability\n",
       "0     21f0b1c838160ac26cb2c57660bc3fd5           0     0.005023\n",
       "1     21e0621a85f6db6139ff7cf2d53b4e5d           0     0.470541\n",
       "2     197b215b23a93b19f391c422eb27f310           0     0.000736\n",
       "3     92b435f20c6ce2fd5acef7b6ff49b6d0           1     0.604254\n",
       "4     a38ac8bfe0feb14c0469e2917bc74a05           1     0.592815\n",
       "...                                ...         ...          ...\n",
       "6766  d6364954adcfbd58d8beebd686a9fbdc           0     0.470541\n",
       "6767  150b405be4282907eb7e87f992856ea1           0     0.470541\n",
       "6768  33b02fadd0d05938b8cc3dfbc735fd10           1     0.592815\n",
       "6769  29cb3dea4ecce778096484ff2e097f5b           0     0.211159\n",
       "6770  ded3592dc9da0c1ace02ed8e361efc23           0     0.470541\n",
       "\n",
       "[6771 rows x 3 columns]"
      ]
     },
     "execution_count": 126,
     "metadata": {},
     "output_type": "execute_result"
    }
   ],
   "source": [
    "t = pd.DataFrame({'pax_name': ts1.pax_name, 'emd_lable2': prediction2,'probability':prediction_})\n",
    "t"
   ]
  },
  {
   "cell_type": "code",
   "execution_count": 127,
   "metadata": {
    "scrolled": true
   },
   "outputs": [
    {
     "data": {
      "text/html": [
       "<div>\n",
       "<style scoped>\n",
       "    .dataframe tbody tr th:only-of-type {\n",
       "        vertical-align: middle;\n",
       "    }\n",
       "\n",
       "    .dataframe tbody tr th {\n",
       "        vertical-align: top;\n",
       "    }\n",
       "\n",
       "    .dataframe thead th {\n",
       "        text-align: right;\n",
       "    }\n",
       "</style>\n",
       "<table border=\"1\" class=\"dataframe\">\n",
       "  <thead>\n",
       "    <tr style=\"text-align: right;\">\n",
       "      <th>emd_lable2</th>\n",
       "      <th>0</th>\n",
       "      <th>1</th>\n",
       "      <th>All</th>\n",
       "    </tr>\n",
       "    <tr>\n",
       "      <th>emd_lable2</th>\n",
       "      <th></th>\n",
       "      <th></th>\n",
       "      <th></th>\n",
       "    </tr>\n",
       "  </thead>\n",
       "  <tbody>\n",
       "    <tr>\n",
       "      <th>0</th>\n",
       "      <td>4926</td>\n",
       "      <td>0</td>\n",
       "      <td>4926</td>\n",
       "    </tr>\n",
       "    <tr>\n",
       "      <th>1</th>\n",
       "      <td>0</td>\n",
       "      <td>1845</td>\n",
       "      <td>1845</td>\n",
       "    </tr>\n",
       "    <tr>\n",
       "      <th>All</th>\n",
       "      <td>4926</td>\n",
       "      <td>1845</td>\n",
       "      <td>6771</td>\n",
       "    </tr>\n",
       "  </tbody>\n",
       "</table>\n",
       "</div>"
      ],
      "text/plain": [
       "emd_lable2     0     1   All\n",
       "emd_lable2                  \n",
       "0           4926     0  4926\n",
       "1              0  1845  1845\n",
       "All         4926  1845  6771"
      ]
     },
     "execution_count": 127,
     "metadata": {},
     "output_type": "execute_result"
    }
   ],
   "source": [
    "pclass = pd.crosstab(t.emd_lable2,t.emd_lable2,margins=True)\n",
    "pclass"
   ]
  },
  {
   "cell_type": "code",
   "execution_count": 136,
   "metadata": {},
   "outputs": [
    {
     "data": {
      "text/html": [
       "<div>\n",
       "<style scoped>\n",
       "    .dataframe tbody tr th:only-of-type {\n",
       "        vertical-align: middle;\n",
       "    }\n",
       "\n",
       "    .dataframe tbody tr th {\n",
       "        vertical-align: top;\n",
       "    }\n",
       "\n",
       "    .dataframe thead th {\n",
       "        text-align: right;\n",
       "    }\n",
       "</style>\n",
       "<table border=\"1\" class=\"dataframe\">\n",
       "  <thead>\n",
       "    <tr style=\"text-align: right;\">\n",
       "      <th></th>\n",
       "      <th>pax_name</th>\n",
       "      <th>emd_lable2</th>\n",
       "      <th>probability</th>\n",
       "    </tr>\n",
       "  </thead>\n",
       "  <tbody>\n",
       "    <tr>\n",
       "      <th>6113</th>\n",
       "      <td>279f3b7a538187e2971d8c877abf7ca6</td>\n",
       "      <td>1</td>\n",
       "      <td>0.953778</td>\n",
       "    </tr>\n",
       "    <tr>\n",
       "      <th>6244</th>\n",
       "      <td>307d1dd1c1ae4be1603ef669a7b094b4</td>\n",
       "      <td>1</td>\n",
       "      <td>0.882011</td>\n",
       "    </tr>\n",
       "    <tr>\n",
       "      <th>6428</th>\n",
       "      <td>eaa1bb76299b2848f16de272dfd9fcc0</td>\n",
       "      <td>1</td>\n",
       "      <td>0.791577</td>\n",
       "    </tr>\n",
       "    <tr>\n",
       "      <th>4220</th>\n",
       "      <td>9193384ef490f9a93db516f631f365c0</td>\n",
       "      <td>1</td>\n",
       "      <td>0.730130</td>\n",
       "    </tr>\n",
       "    <tr>\n",
       "      <th>627</th>\n",
       "      <td>e7489c6a1c3273141d9640aa7e7c8647</td>\n",
       "      <td>1</td>\n",
       "      <td>0.730130</td>\n",
       "    </tr>\n",
       "    <tr>\n",
       "      <th>...</th>\n",
       "      <td>...</td>\n",
       "      <td>...</td>\n",
       "      <td>...</td>\n",
       "    </tr>\n",
       "    <tr>\n",
       "      <th>2549</th>\n",
       "      <td>80d717f3a26db16fcb013e121c908fce</td>\n",
       "      <td>1</td>\n",
       "      <td>0.592815</td>\n",
       "    </tr>\n",
       "    <tr>\n",
       "      <th>2611</th>\n",
       "      <td>b6024ed359b042f8e70a6087316757ab</td>\n",
       "      <td>1</td>\n",
       "      <td>0.592815</td>\n",
       "    </tr>\n",
       "    <tr>\n",
       "      <th>2545</th>\n",
       "      <td>25b17daffbd115b6d838c8c36e0f1ce4</td>\n",
       "      <td>1</td>\n",
       "      <td>0.592815</td>\n",
       "    </tr>\n",
       "    <tr>\n",
       "      <th>2607</th>\n",
       "      <td>4f665a9d9a40fa962b0edf9ada047874</td>\n",
       "      <td>1</td>\n",
       "      <td>0.592815</td>\n",
       "    </tr>\n",
       "    <tr>\n",
       "      <th>6768</th>\n",
       "      <td>33b02fadd0d05938b8cc3dfbc735fd10</td>\n",
       "      <td>1</td>\n",
       "      <td>0.592815</td>\n",
       "    </tr>\n",
       "  </tbody>\n",
       "</table>\n",
       "<p>1845 rows × 3 columns</p>\n",
       "</div>"
      ],
      "text/plain": [
       "                              pax_name  emd_lable2  probability\n",
       "6113  279f3b7a538187e2971d8c877abf7ca6           1     0.953778\n",
       "6244  307d1dd1c1ae4be1603ef669a7b094b4           1     0.882011\n",
       "6428  eaa1bb76299b2848f16de272dfd9fcc0           1     0.791577\n",
       "4220  9193384ef490f9a93db516f631f365c0           1     0.730130\n",
       "627   e7489c6a1c3273141d9640aa7e7c8647           1     0.730130\n",
       "...                                ...         ...          ...\n",
       "2549  80d717f3a26db16fcb013e121c908fce           1     0.592815\n",
       "2611  b6024ed359b042f8e70a6087316757ab           1     0.592815\n",
       "2545  25b17daffbd115b6d838c8c36e0f1ce4           1     0.592815\n",
       "2607  4f665a9d9a40fa962b0edf9ada047874           1     0.592815\n",
       "6768  33b02fadd0d05938b8cc3dfbc735fd10           1     0.592815\n",
       "\n",
       "[1845 rows x 3 columns]"
      ]
     },
     "execution_count": 136,
     "metadata": {},
     "output_type": "execute_result"
    }
   ],
   "source": [
    "t = t[t['emd_lable2'].isin([1])]\n",
    "t = t.sort_values(by='probability',ascending=False)\n",
    "t1 = t.head(500)\n",
    "t2 = t.head(6771)\n",
    "t1\n",
    "t2"
   ]
  },
  {
   "cell_type": "markdown",
   "metadata": {},
   "source": [
    "# 导出表格"
   ]
  },
  {
   "cell_type": "code",
   "execution_count": 138,
   "metadata": {},
   "outputs": [],
   "source": [
    "t1.to_csv('D:/专业实习/Xg_class-master/data/result.csv',index=False)\n",
    "t2.to_csv('D:/专业实习/Xg_class-master/data/all.csv',index=False)"
   ]
  },
  {
   "cell_type": "code",
   "execution_count": null,
   "metadata": {},
   "outputs": [],
   "source": []
  }
 ],
 "metadata": {
  "kernelspec": {
   "display_name": "Python 3 (ipykernel)",
   "language": "python",
   "name": "python3"
  },
  "language_info": {
   "codemirror_mode": {
    "name": "ipython",
    "version": 3
   },
   "file_extension": ".py",
   "mimetype": "text/x-python",
   "name": "python",
   "nbconvert_exporter": "python",
   "pygments_lexer": "ipython3",
   "version": "3.9.13"
  }
 },
 "nbformat": 4,
 "nbformat_minor": 4
}
